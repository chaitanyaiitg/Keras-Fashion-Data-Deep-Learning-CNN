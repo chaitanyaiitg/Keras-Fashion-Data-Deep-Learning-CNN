{
  "nbformat": 4,
  "nbformat_minor": 0,
  "metadata": {
    "colab": {
      "name": "Keras Fashion Items_Deep Learning _CNN.ipynb",
      "provenance": [],
      "collapsed_sections": []
    },
    "kernelspec": {
      "name": "python3",
      "display_name": "Python 3"
    },
    "accelerator": "GPU"
  },
  "cells": [
    {
      "cell_type": "code",
      "metadata": {
        "id": "2iig0a3Sbm2i",
        "outputId": "42fc94d1-ec12-43cc-cc5a-109c0ec7c159",
        "colab": {
          "base_uri": "https://localhost:8080/",
          "height": 717
        }
      },
      "source": [
        "! pip install tensorflow-gpu"
      ],
      "execution_count": 1,
      "outputs": [
        {
          "output_type": "stream",
          "text": [
            "Collecting tensorflow-gpu\n",
            "\u001b[?25l  Downloading https://files.pythonhosted.org/packages/18/99/ac32fd13d56e40d4c3e6150030132519997c0bb1f06f448d970e81b177e5/tensorflow_gpu-2.3.1-cp36-cp36m-manylinux2010_x86_64.whl (320.4MB)\n",
            "\u001b[K     |████████████████████████████████| 320.4MB 54kB/s \n",
            "\u001b[?25hRequirement already satisfied: numpy<1.19.0,>=1.16.0 in /usr/local/lib/python3.6/dist-packages (from tensorflow-gpu) (1.18.5)\n",
            "Requirement already satisfied: tensorboard<3,>=2.3.0 in /usr/local/lib/python3.6/dist-packages (from tensorflow-gpu) (2.3.0)\n",
            "Requirement already satisfied: protobuf>=3.9.2 in /usr/local/lib/python3.6/dist-packages (from tensorflow-gpu) (3.12.4)\n",
            "Requirement already satisfied: wheel>=0.26 in /usr/local/lib/python3.6/dist-packages (from tensorflow-gpu) (0.35.1)\n",
            "Requirement already satisfied: grpcio>=1.8.6 in /usr/local/lib/python3.6/dist-packages (from tensorflow-gpu) (1.32.0)\n",
            "Requirement already satisfied: gast==0.3.3 in /usr/local/lib/python3.6/dist-packages (from tensorflow-gpu) (0.3.3)\n",
            "Requirement already satisfied: tensorflow-estimator<2.4.0,>=2.3.0 in /usr/local/lib/python3.6/dist-packages (from tensorflow-gpu) (2.3.0)\n",
            "Requirement already satisfied: opt-einsum>=2.3.2 in /usr/local/lib/python3.6/dist-packages (from tensorflow-gpu) (3.3.0)\n",
            "Requirement already satisfied: termcolor>=1.1.0 in /usr/local/lib/python3.6/dist-packages (from tensorflow-gpu) (1.1.0)\n",
            "Requirement already satisfied: six>=1.12.0 in /usr/local/lib/python3.6/dist-packages (from tensorflow-gpu) (1.15.0)\n",
            "Requirement already satisfied: astunparse==1.6.3 in /usr/local/lib/python3.6/dist-packages (from tensorflow-gpu) (1.6.3)\n",
            "Requirement already satisfied: wrapt>=1.11.1 in /usr/local/lib/python3.6/dist-packages (from tensorflow-gpu) (1.12.1)\n",
            "Requirement already satisfied: keras-preprocessing<1.2,>=1.1.1 in /usr/local/lib/python3.6/dist-packages (from tensorflow-gpu) (1.1.2)\n",
            "Requirement already satisfied: h5py<2.11.0,>=2.10.0 in /usr/local/lib/python3.6/dist-packages (from tensorflow-gpu) (2.10.0)\n",
            "Requirement already satisfied: google-pasta>=0.1.8 in /usr/local/lib/python3.6/dist-packages (from tensorflow-gpu) (0.2.0)\n",
            "Requirement already satisfied: absl-py>=0.7.0 in /usr/local/lib/python3.6/dist-packages (from tensorflow-gpu) (0.10.0)\n",
            "Requirement already satisfied: requests<3,>=2.21.0 in /usr/local/lib/python3.6/dist-packages (from tensorboard<3,>=2.3.0->tensorflow-gpu) (2.23.0)\n",
            "Requirement already satisfied: google-auth<2,>=1.6.3 in /usr/local/lib/python3.6/dist-packages (from tensorboard<3,>=2.3.0->tensorflow-gpu) (1.17.2)\n",
            "Requirement already satisfied: google-auth-oauthlib<0.5,>=0.4.1 in /usr/local/lib/python3.6/dist-packages (from tensorboard<3,>=2.3.0->tensorflow-gpu) (0.4.1)\n",
            "Requirement already satisfied: werkzeug>=0.11.15 in /usr/local/lib/python3.6/dist-packages (from tensorboard<3,>=2.3.0->tensorflow-gpu) (1.0.1)\n",
            "Requirement already satisfied: setuptools>=41.0.0 in /usr/local/lib/python3.6/dist-packages (from tensorboard<3,>=2.3.0->tensorflow-gpu) (50.3.0)\n",
            "Requirement already satisfied: markdown>=2.6.8 in /usr/local/lib/python3.6/dist-packages (from tensorboard<3,>=2.3.0->tensorflow-gpu) (3.2.2)\n",
            "Requirement already satisfied: tensorboard-plugin-wit>=1.6.0 in /usr/local/lib/python3.6/dist-packages (from tensorboard<3,>=2.3.0->tensorflow-gpu) (1.7.0)\n",
            "Requirement already satisfied: urllib3!=1.25.0,!=1.25.1,<1.26,>=1.21.1 in /usr/local/lib/python3.6/dist-packages (from requests<3,>=2.21.0->tensorboard<3,>=2.3.0->tensorflow-gpu) (1.24.3)\n",
            "Requirement already satisfied: certifi>=2017.4.17 in /usr/local/lib/python3.6/dist-packages (from requests<3,>=2.21.0->tensorboard<3,>=2.3.0->tensorflow-gpu) (2020.6.20)\n",
            "Requirement already satisfied: idna<3,>=2.5 in /usr/local/lib/python3.6/dist-packages (from requests<3,>=2.21.0->tensorboard<3,>=2.3.0->tensorflow-gpu) (2.10)\n",
            "Requirement already satisfied: chardet<4,>=3.0.2 in /usr/local/lib/python3.6/dist-packages (from requests<3,>=2.21.0->tensorboard<3,>=2.3.0->tensorflow-gpu) (3.0.4)\n",
            "Requirement already satisfied: pyasn1-modules>=0.2.1 in /usr/local/lib/python3.6/dist-packages (from google-auth<2,>=1.6.3->tensorboard<3,>=2.3.0->tensorflow-gpu) (0.2.8)\n",
            "Requirement already satisfied: cachetools<5.0,>=2.0.0 in /usr/local/lib/python3.6/dist-packages (from google-auth<2,>=1.6.3->tensorboard<3,>=2.3.0->tensorflow-gpu) (4.1.1)\n",
            "Requirement already satisfied: rsa<5,>=3.1.4; python_version >= \"3\" in /usr/local/lib/python3.6/dist-packages (from google-auth<2,>=1.6.3->tensorboard<3,>=2.3.0->tensorflow-gpu) (4.6)\n",
            "Requirement already satisfied: requests-oauthlib>=0.7.0 in /usr/local/lib/python3.6/dist-packages (from google-auth-oauthlib<0.5,>=0.4.1->tensorboard<3,>=2.3.0->tensorflow-gpu) (1.3.0)\n",
            "Requirement already satisfied: importlib-metadata; python_version < \"3.8\" in /usr/local/lib/python3.6/dist-packages (from markdown>=2.6.8->tensorboard<3,>=2.3.0->tensorflow-gpu) (2.0.0)\n",
            "Requirement already satisfied: pyasn1<0.5.0,>=0.4.6 in /usr/local/lib/python3.6/dist-packages (from pyasn1-modules>=0.2.1->google-auth<2,>=1.6.3->tensorboard<3,>=2.3.0->tensorflow-gpu) (0.4.8)\n",
            "Requirement already satisfied: oauthlib>=3.0.0 in /usr/local/lib/python3.6/dist-packages (from requests-oauthlib>=0.7.0->google-auth-oauthlib<0.5,>=0.4.1->tensorboard<3,>=2.3.0->tensorflow-gpu) (3.1.0)\n",
            "Requirement already satisfied: zipp>=0.5 in /usr/local/lib/python3.6/dist-packages (from importlib-metadata; python_version < \"3.8\"->markdown>=2.6.8->tensorboard<3,>=2.3.0->tensorflow-gpu) (3.2.0)\n",
            "Installing collected packages: tensorflow-gpu\n",
            "Successfully installed tensorflow-gpu-2.3.1\n"
          ],
          "name": "stdout"
        }
      ]
    },
    {
      "cell_type": "code",
      "metadata": {
        "id": "RLuJ3IyBbzUk",
        "outputId": "4eb1f9bf-44cc-4f7a-a91c-bb9c81e62721",
        "colab": {
          "base_uri": "https://localhost:8080/",
          "height": 119
        }
      },
      "source": [
        "! pip install keras"
      ],
      "execution_count": 2,
      "outputs": [
        {
          "output_type": "stream",
          "text": [
            "Requirement already satisfied: keras in /usr/local/lib/python3.6/dist-packages (2.4.3)\n",
            "Requirement already satisfied: pyyaml in /usr/local/lib/python3.6/dist-packages (from keras) (3.13)\n",
            "Requirement already satisfied: scipy>=0.14 in /usr/local/lib/python3.6/dist-packages (from keras) (1.4.1)\n",
            "Requirement already satisfied: h5py in /usr/local/lib/python3.6/dist-packages (from keras) (2.10.0)\n",
            "Requirement already satisfied: numpy>=1.9.1 in /usr/local/lib/python3.6/dist-packages (from keras) (1.18.5)\n",
            "Requirement already satisfied: six in /usr/local/lib/python3.6/dist-packages (from h5py->keras) (1.15.0)\n"
          ],
          "name": "stdout"
        }
      ]
    },
    {
      "cell_type": "code",
      "metadata": {
        "id": "CBH6WN3Db5qw",
        "outputId": "a9f4684a-e008-456f-d7c2-76840307d212",
        "colab": {
          "base_uri": "https://localhost:8080/",
          "height": 102
        }
      },
      "source": [
        "! pip install pandas"
      ],
      "execution_count": 3,
      "outputs": [
        {
          "output_type": "stream",
          "text": [
            "Requirement already satisfied: pandas in /usr/local/lib/python3.6/dist-packages (1.1.2)\n",
            "Requirement already satisfied: numpy>=1.15.4 in /usr/local/lib/python3.6/dist-packages (from pandas) (1.18.5)\n",
            "Requirement already satisfied: python-dateutil>=2.7.3 in /usr/local/lib/python3.6/dist-packages (from pandas) (2.8.1)\n",
            "Requirement already satisfied: pytz>=2017.2 in /usr/local/lib/python3.6/dist-packages (from pandas) (2018.9)\n",
            "Requirement already satisfied: six>=1.5 in /usr/local/lib/python3.6/dist-packages (from python-dateutil>=2.7.3->pandas) (1.15.0)\n"
          ],
          "name": "stdout"
        }
      ]
    },
    {
      "cell_type": "code",
      "metadata": {
        "id": "lPqXRMj_b5wC",
        "outputId": "fb43f90c-aa37-4859-c8f7-7cff4844bf1a",
        "colab": {
          "base_uri": "https://localhost:8080/",
          "height": 139
        }
      },
      "source": [
        "import matplotlib.pylab as plt\n",
        "import numpy as np\n",
        "import tensorflow_hub as hub\n",
        "import tensorflow as tf\n",
        "print(\"TF version:\", tf.__version__)\n",
        "print(\"Hub version:\", hub.__version__)\n",
        "print(\"GPU is\", \"available\" if tf.test.is_gpu_available() else \"NOT AVAILABLE\")"
      ],
      "execution_count": 4,
      "outputs": [
        {
          "output_type": "stream",
          "text": [
            "TF version: 2.3.1\n",
            "Hub version: 0.9.0\n",
            "WARNING:tensorflow:From <ipython-input-4-c62ce35fd0be>:7: is_gpu_available (from tensorflow.python.framework.test_util) is deprecated and will be removed in a future version.\n",
            "Instructions for updating:\n",
            "Use `tf.config.list_physical_devices('GPU')` instead.\n",
            "GPU is available\n"
          ],
          "name": "stdout"
        }
      ]
    },
    {
      "cell_type": "code",
      "metadata": {
        "id": "izjchs6sb51O"
      },
      "source": [
        "from tensorflow.keras.layers import Input, Lambda, Dense, Flatten,Conv2D,MaxPooling2D\n",
        "from tensorflow.keras.models import Model\n",
        "#from tensorflow.keras.applications.resnet50 import ResNet50\n",
        "#from tensorflow.keras.applications.resnet152V2 import ResNet152V2\n",
        "from tensorflow.keras.applications.vgg19 import VGG19\n",
        "from tensorflow.keras.applications.vgg19 import preprocess_input\n",
        "from tensorflow.keras.preprocessing import image\n",
        "from tensorflow.keras.preprocessing.image import ImageDataGenerator,load_img\n",
        "from tensorflow.keras.models import Sequential\n",
        "from glob import glob\n",
        "#from keras.applications.inception_v3 import InceptionV3\n",
        "#from keras.applications.inception_v3 import preprocess_input, decode_predictions\n",
        "from tensorflow.keras.datasets import mnist"
      ],
      "execution_count": 5,
      "outputs": []
    },
    {
      "cell_type": "code",
      "metadata": {
        "id": "MgdvwuWPb56c"
      },
      "source": [
        "from sklearn.utils import shuffle\n",
        "from sklearn.metrics import classification_report\n",
        "from sklearn.model_selection import train_test_split\n",
        "from sklearn.metrics import confusion_matrix,accuracy_score\n",
        "import os\n",
        "import cv2"
      ],
      "execution_count": 6,
      "outputs": []
    },
    {
      "cell_type": "code",
      "metadata": {
        "id": "xKJhsWI69gNe"
      },
      "source": [
        "import pandas as pd\n",
        "import numpy as np"
      ],
      "execution_count": 7,
      "outputs": []
    },
    {
      "cell_type": "code",
      "metadata": {
        "id": "4TAftEwl9lIV"
      },
      "source": [
        "import matplotlib.pyplot as plt\n",
        "%matplotlib inline"
      ],
      "execution_count": 8,
      "outputs": []
    },
    {
      "cell_type": "code",
      "metadata": {
        "id": "qBNVQkSVb5_d"
      },
      "source": [
        "from tensorflow.keras.datasets import fashion_mnist\n",
        "(X_train, y_train), (X_test, y_test) = fashion_mnist.load_data()"
      ],
      "execution_count": 55,
      "outputs": []
    },
    {
      "cell_type": "code",
      "metadata": {
        "id": "bgwVdRiEPLOL"
      },
      "source": [
        "random_state = 100\n",
        "X_train, y_train = shuffle(X_train, y_train, random_state = random_state)\n",
        "X_test, y_test = shuffle(X_test, y_test, random_state = random_state)"
      ],
      "execution_count": 56,
      "outputs": []
    },
    {
      "cell_type": "code",
      "metadata": {
        "id": "Ur4b4EFKU4pY"
      },
      "source": [
        "class_labels=[\"T-shirt/top\",\"Trouser\",\"Pullover\",\"Dress\",\"Coat\",\"Sandal\",\"Shirt\",\"Sneaker\",\"Bag\",\"Ankle boot\"]"
      ],
      "execution_count": 57,
      "outputs": []
    },
    {
      "cell_type": "code",
      "metadata": {
        "id": "EKNVwMOgE9Pz",
        "outputId": "22c6af34-23db-4c46-c65a-c73ae7e656b4",
        "colab": {
          "base_uri": "https://localhost:8080/",
          "height": 514
        }
      },
      "source": [
        "import random\n",
        "from random import sample\n",
        "plt.figure(figsize=(10,10))\n",
        "random_indexes = sample(range(1, 60000), 10)\n",
        "print(random_indexes)\n",
        "for i, img_index in enumerate(random_indexes):\n",
        "\n",
        "  # Set up subplot; subplot indices start at 1\n",
        "  sp=plt.subplot(6,2, i + 1)\n",
        "  sp.set_title(class_labels[y_train[img_index]])\n",
        "  sp.axis('Off') # Don't show axes (or gridlines)\n",
        "  plt.imshow(X_train[img_index])\n"
      ],
      "execution_count": 59,
      "outputs": [
        {
          "output_type": "stream",
          "text": [
            "[28922, 41291, 33351, 47244, 38558, 7583, 7784, 45037, 50228, 37038]\n"
          ],
          "name": "stdout"
        },
        {
          "output_type": "display_data",
          "data": {
            "image/png": "[encoded data removed]",
            "text/plain": [
              "<Figure size 720x720 with 10 Axes>"
            ]
          },
          "metadata": {
            "tags": [],
            "needs_background": "light"
          }
        }
      ]
    },
    {
      "cell_type": "code",
      "metadata": {
        "id": "XBYFY4Pbb6E2",
        "outputId": "29387f2b-d011-4639-ab35-b55cb2720ae0",
        "colab": {
          "base_uri": "https://localhost:8080/",
          "height": 34
        }
      },
      "source": [
        "X_train.shape"
      ],
      "execution_count": 61,
      "outputs": [
        {
          "output_type": "execute_result",
          "data": {
            "text/plain": [
              "(60000, 28, 28)"
            ]
          },
          "metadata": {
            "tags": []
          },
          "execution_count": 61
        }
      ]
    },
    {
      "cell_type": "code",
      "metadata": {
        "id": "ly2b47y3de6h",
        "outputId": "f8be8d57-25b5-4b73-a2f5-0761cdeb01b8",
        "colab": {
          "base_uri": "https://localhost:8080/",
          "height": 34
        }
      },
      "source": [
        "y_train.shape"
      ],
      "execution_count": 62,
      "outputs": [
        {
          "output_type": "execute_result",
          "data": {
            "text/plain": [
              "(60000,)"
            ]
          },
          "metadata": {
            "tags": []
          },
          "execution_count": 62
        }
      ]
    },
    {
      "cell_type": "code",
      "metadata": {
        "id": "cUPoix_vb6KO",
        "outputId": "011c7feb-05ba-4d2a-f581-3aa5a97324cd",
        "colab": {
          "base_uri": "https://localhost:8080/",
          "height": 34
        }
      },
      "source": [
        "X_test.shape"
      ],
      "execution_count": 63,
      "outputs": [
        {
          "output_type": "execute_result",
          "data": {
            "text/plain": [
              "(10000, 28, 28)"
            ]
          },
          "metadata": {
            "tags": []
          },
          "execution_count": 63
        }
      ]
    },
    {
      "cell_type": "code",
      "metadata": {
        "id": "4RtuEDIKrI5I",
        "outputId": "b9dbbea9-0a7e-48bf-88c0-98631592de3c",
        "colab": {
          "base_uri": "https://localhost:8080/",
          "height": 34
        }
      },
      "source": [
        "X_train[0].shape"
      ],
      "execution_count": 64,
      "outputs": [
        {
          "output_type": "execute_result",
          "data": {
            "text/plain": [
              "(28, 28)"
            ]
          },
          "metadata": {
            "tags": []
          },
          "execution_count": 64
        }
      ]
    },
    {
      "cell_type": "code",
      "metadata": {
        "id": "fPUrEV8NhCJA",
        "outputId": "2f613021-e204-426c-a090-a76819871e9e",
        "colab": {
          "base_uri": "https://localhost:8080/",
          "height": 1000
        }
      },
      "source": [
        "X_train[0]"
      ],
      "execution_count": 65,
      "outputs": [
        {
          "output_type": "execute_result",
          "data": {
            "text/plain": [
              "array([[  0,   0,   0,   0,   0,   0,   0,   0,   0,   0,   0,   0,   0,\n",
              "          0,   0,   0,   0,   0,   0,   0,   0,   0,   0,   0,   0,   0,\n",
              "          0,   0],\n",
              "       [  0,   0,   0,   0,   0,   0,   0,   0,   0,   0,   0,   0,   0,\n",
              "          0,   0,   0,   0,   0,   0,   0,   0,   0,   0,   0,   0,   0,\n",
              "          0,   0],\n",
              "       [  0,   0,   0,   0,   0,   0,   0,   0,   0,   0,   0,   0,   0,\n",
              "          0,   0,   0,   0,   0,   0,   0,   0,   0,   0,   0,   0,   0,\n",
              "          0,   0],\n",
              "       [  0,   0,   0,   0,   0,   0,   0,   0,   0,   0,   0,   0,   0,\n",
              "          0,   0,   0,   0,   0,   0,   0,   0,   0,   0,   0,   0,   0,\n",
              "          0,   0],\n",
              "       [  0,   0,   0,   0,   0,   0,   0,   0,   0,   0,   0,   0,   0,\n",
              "          0,   0,   0,   0,   0,   0,   0,   0,   0,   0,   0,   0,   0,\n",
              "          0,   0],\n",
              "       [  0,   0,  82,  72,   0, 117,  74,  81,  75,  78,  80,  79,  79,\n",
              "         65,  58,  59,  58,  56,  62,  67,  70,  68,  65,  74,  24,   0,\n",
              "          0,   0],\n",
              "       [  0, 182, 181, 103, 216, 183, 135, 155, 153, 150, 144, 147, 142,\n",
              "        147, 150, 143, 139, 142, 137, 136, 146, 147, 149, 145, 145, 127,\n",
              "         14,   0],\n",
              "       [ 77, 201,   0,   0, 228, 156, 124, 147, 138, 143, 142, 149, 146,\n",
              "        140, 143, 139, 139, 141, 139, 144, 136, 138, 147, 140, 126, 182,\n",
              "        129,  89],\n",
              "       [162,  58,   0,   0, 227, 147, 151, 143, 138, 141, 144, 147, 143,\n",
              "        146, 145, 143, 142, 144, 145, 147, 149, 148, 143, 156, 111, 189,\n",
              "          5,  88],\n",
              "       [174,   7,   0,   0, 238, 139, 148, 146, 144, 148, 147, 144, 145,\n",
              "        144, 139, 138, 138, 139, 142, 136, 146, 148, 140, 149, 118, 225,\n",
              "         33,  98],\n",
              "       [165,   7,   0,  12, 243, 111, 142, 142, 148, 147, 148, 147, 151,\n",
              "        148, 141, 145, 147, 145, 152, 145, 139, 145, 153, 148, 116, 180,\n",
              "        142,  65],\n",
              "       [148,  41,   0,   0, 241, 110, 140, 145, 144, 146, 150, 152, 147,\n",
              "        147, 145, 140, 138, 138, 141, 144, 139, 148, 157, 141, 119, 176,\n",
              "        153,   0],\n",
              "       [112, 153,   0,   0, 255, 154, 120, 153, 149, 149, 145, 142, 148,\n",
              "        159, 168, 167, 157, 149, 141, 143, 140, 147, 156, 142, 112, 207,\n",
              "          3,   0],\n",
              "       [ 20, 234,   0,   0, 255, 212, 108, 125, 150, 150, 143, 136, 155,\n",
              "        128,  72,  84, 107, 153, 143, 142, 156, 144, 155, 118, 172, 231,\n",
              "          5,   0],\n",
              "       [  0, 220,  30,   0, 254, 239, 213, 125, 113, 132, 146, 145, 174,\n",
              "         95,  36,  89,  85, 158, 145, 140, 138, 121, 108, 166, 237, 225,\n",
              "          0,   0],\n",
              "       [  0, 109, 147,   0, 246, 229, 236, 246, 191, 151, 130, 122, 146,\n",
              "        135, 137, 160, 117, 134, 122, 113, 120, 161, 216, 236, 240, 194,\n",
              "          0,   0],\n",
              "       [  5,   0, 125,  39, 136, 246, 225, 235, 255, 253, 234, 215, 197,\n",
              "        179, 177, 175, 168, 176, 199, 223, 239, 252, 235, 225, 236, 170,\n",
              "          0,   0],\n",
              "       [  1,   0,   0, 113, 220, 226, 224, 225, 216, 224, 243, 248, 253,\n",
              "        255, 255, 254, 246, 249, 243, 233, 225, 215, 222, 213, 240,  57,\n",
              "          0,   2],\n",
              "       [  3,   2,   0,   0,  78, 226, 226, 223, 214, 219, 223, 216, 219,\n",
              "        208, 145, 204, 241, 219, 219, 221, 223, 220, 209, 243, 184,   0,\n",
              "          0,   0],\n",
              "       [  0,   2,   0,   0,  97, 220, 210, 217, 228, 232, 232, 228, 220,\n",
              "        205, 205, 119, 185, 231, 216, 218, 220, 223, 244, 218,   0,   0,\n",
              "          3,   0],\n",
              "       [  0,   0,   0,   0, 176, 238, 175, 212, 225, 228, 229, 226, 224,\n",
              "        232, 241, 170, 203, 255, 245, 243, 236, 204, 124,   0,   0,   0,\n",
              "          0,   0],\n",
              "       [  0,   0,   0,   0, 115, 163, 164, 207, 229, 228, 233, 234, 237,\n",
              "        243, 213, 105, 149, 167, 124,  76,  19,   0,   0,   0,   0,   2,\n",
              "          0,   0],\n",
              "       [  0,   0,   0,   0,   0,   0,   0,   0,   0,   0,   0,   0,   0,\n",
              "          0,   0,   0,   0,   0,   0,   0,   0,   0,   2,   2,   0,   0,\n",
              "          1,   0],\n",
              "       [  0,   0,   0,   0,   0,   0,   0,   0,   0,   0,   0,   0,   0,\n",
              "          0,   0,   0,   0,   0,   0,   0,   0,   0,   0,   0,   0,   0,\n",
              "          0,   0],\n",
              "       [  0,   0,   0,   0,   0,   0,   0,   0,   0,   0,   0,   0,   0,\n",
              "          0,   0,   0,   0,   0,   0,   0,   0,   0,   0,   0,   0,   0,\n",
              "          0,   0],\n",
              "       [  0,   0,   0,   0,   0,   0,   0,   0,   0,   0,   0,   0,   0,\n",
              "          0,   0,   0,   0,   0,   0,   0,   0,   0,   0,   0,   0,   0,\n",
              "          0,   0],\n",
              "       [  0,   0,   0,   0,   0,   0,   0,   0,   0,   0,   0,   0,   0,\n",
              "          0,   0,   0,   0,   0,   0,   0,   0,   0,   0,   0,   0,   0,\n",
              "          0,   0],\n",
              "       [  0,   0,   0,   0,   0,   0,   0,   0,   0,   0,   0,   0,   0,\n",
              "          0,   0,   0,   0,   0,   0,   0,   0,   0,   0,   0,   0,   0,\n",
              "          0,   0]], dtype=uint8)"
            ]
          },
          "metadata": {
            "tags": []
          },
          "execution_count": 65
        }
      ]
    },
    {
      "cell_type": "code",
      "metadata": {
        "id": "9RYxY1cRmtVx",
        "outputId": "3ed9fe71-dacb-44bf-86e1-077a3ad96346",
        "colab": {
          "base_uri": "https://localhost:8080/",
          "height": 283
        }
      },
      "source": [
        "plt.imshow(X_train[1000])\n",
        "class_labels[y_train[1000]]"
      ],
      "execution_count": 79,
      "outputs": [
        {
          "output_type": "execute_result",
          "data": {
            "application/vnd.google.colaboratory.intrinsic+json": {
              "type": "string"
            },
            "text/plain": [
              "'T-shirt/top'"
            ]
          },
          "metadata": {
            "tags": []
          },
          "execution_count": 79
        },
        {
          "output_type": "display_data",
          "data": {
            "image/png": "[encoded data removed]",
            "text/plain": [
              "<Figure size 432x288 with 1 Axes>"
            ]
          },
          "metadata": {
            "tags": [],
            "needs_background": "light"
          }
        }
      ]
    },
    {
      "cell_type": "code",
      "metadata": {
        "id": "Fn8SHtHZ2RDx",
        "outputId": "1eae1f46-c783-4d1d-a861-bc434e9a8c0a",
        "colab": {
          "base_uri": "https://localhost:8080/",
          "height": 34
        }
      },
      "source": [
        "y_train"
      ],
      "execution_count": 80,
      "outputs": [
        {
          "output_type": "execute_result",
          "data": {
            "text/plain": [
              "array([8, 6, 6, ..., 3, 0, 9], dtype=uint8)"
            ]
          },
          "metadata": {
            "tags": []
          },
          "execution_count": 80
        }
      ]
    },
    {
      "cell_type": "code",
      "metadata": {
        "id": "aMeal_ZIb6Up"
      },
      "source": [
        "X_train=X_train/255\n",
        "X_test=X_test/255"
      ],
      "execution_count": 81,
      "outputs": []
    },
    {
      "cell_type": "code",
      "metadata": {
        "id": "IuMQm1BUAd9C",
        "outputId": "d01a9d87-8942-4736-aa16-c070d7297345",
        "colab": {
          "base_uri": "https://localhost:8080/",
          "height": 1000
        }
      },
      "source": [
        "X_train[0]"
      ],
      "execution_count": 82,
      "outputs": [
        {
          "output_type": "execute_result",
          "data": {
            "text/plain": [
              "array([[0.        , 0.        , 0.        , 0.        , 0.        ,\n",
              "        0.        , 0.        , 0.        , 0.        , 0.        ,\n",
              "        0.        , 0.        , 0.        , 0.        , 0.        ,\n",
              "        0.        , 0.        , 0.        , 0.        , 0.        ,\n",
              "        0.        , 0.        , 0.        , 0.        , 0.        ,\n",
              "        0.        , 0.        , 0.        ],\n",
              "       [0.        , 0.        , 0.        , 0.        , 0.        ,\n",
              "        0.        , 0.        , 0.        , 0.        , 0.        ,\n",
              "        0.        , 0.        , 0.        , 0.        , 0.        ,\n",
              "        0.        , 0.        , 0.        , 0.        , 0.        ,\n",
              "        0.        , 0.        , 0.        , 0.        , 0.        ,\n",
              "        0.        , 0.        , 0.        ],\n",
              "       [0.        , 0.        , 0.        , 0.        , 0.        ,\n",
              "        0.        , 0.        , 0.        , 0.        , 0.        ,\n",
              "        0.        , 0.        , 0.        , 0.        , 0.        ,\n",
              "        0.        , 0.        , 0.        , 0.        , 0.        ,\n",
              "        0.        , 0.        , 0.        , 0.        , 0.        ,\n",
              "        0.        , 0.        , 0.        ],\n",
              "       [0.        , 0.        , 0.        , 0.        , 0.        ,\n",
              "        0.        , 0.        , 0.        , 0.        , 0.        ,\n",
              "        0.        , 0.        , 0.        , 0.        , 0.        ,\n",
              "        0.        , 0.        , 0.        , 0.        , 0.        ,\n",
              "        0.        , 0.        , 0.        , 0.        , 0.        ,\n",
              "        0.        , 0.        , 0.        ],\n",
              "       [0.        , 0.        , 0.        , 0.        , 0.        ,\n",
              "        0.        , 0.        , 0.        , 0.        , 0.        ,\n",
              "        0.        , 0.        , 0.        , 0.        , 0.        ,\n",
              "        0.        , 0.        , 0.        , 0.        , 0.        ,\n",
              "        0.        , 0.        , 0.        , 0.        , 0.        ,\n",
              "        0.        , 0.        , 0.        ],\n",
              "       [0.        , 0.        , 0.32156863, 0.28235294, 0.        ,\n",
              "        0.45882353, 0.29019608, 0.31764706, 0.29411765, 0.30588235,\n",
              "        0.31372549, 0.30980392, 0.30980392, 0.25490196, 0.22745098,\n",
              "        0.23137255, 0.22745098, 0.21960784, 0.24313725, 0.2627451 ,\n",
              "        0.2745098 , 0.26666667, 0.25490196, 0.29019608, 0.09411765,\n",
              "        0.        , 0.        , 0.        ],\n",
              "       [0.        , 0.71372549, 0.70980392, 0.40392157, 0.84705882,\n",
              "        0.71764706, 0.52941176, 0.60784314, 0.6       , 0.58823529,\n",
              "        0.56470588, 0.57647059, 0.55686275, 0.57647059, 0.58823529,\n",
              "        0.56078431, 0.54509804, 0.55686275, 0.5372549 , 0.53333333,\n",
              "        0.57254902, 0.57647059, 0.58431373, 0.56862745, 0.56862745,\n",
              "        0.49803922, 0.05490196, 0.        ],\n",
              "       [0.30196078, 0.78823529, 0.        , 0.        , 0.89411765,\n",
              "        0.61176471, 0.48627451, 0.57647059, 0.54117647, 0.56078431,\n",
              "        0.55686275, 0.58431373, 0.57254902, 0.54901961, 0.56078431,\n",
              "        0.54509804, 0.54509804, 0.55294118, 0.54509804, 0.56470588,\n",
              "        0.53333333, 0.54117647, 0.57647059, 0.54901961, 0.49411765,\n",
              "        0.71372549, 0.50588235, 0.34901961],\n",
              "       [0.63529412, 0.22745098, 0.        , 0.        , 0.89019608,\n",
              "        0.57647059, 0.59215686, 0.56078431, 0.54117647, 0.55294118,\n",
              "        0.56470588, 0.57647059, 0.56078431, 0.57254902, 0.56862745,\n",
              "        0.56078431, 0.55686275, 0.56470588, 0.56862745, 0.57647059,\n",
              "        0.58431373, 0.58039216, 0.56078431, 0.61176471, 0.43529412,\n",
              "        0.74117647, 0.01960784, 0.34509804],\n",
              "       [0.68235294, 0.02745098, 0.        , 0.        , 0.93333333,\n",
              "        0.54509804, 0.58039216, 0.57254902, 0.56470588, 0.58039216,\n",
              "        0.57647059, 0.56470588, 0.56862745, 0.56470588, 0.54509804,\n",
              "        0.54117647, 0.54117647, 0.54509804, 0.55686275, 0.53333333,\n",
              "        0.57254902, 0.58039216, 0.54901961, 0.58431373, 0.4627451 ,\n",
              "        0.88235294, 0.12941176, 0.38431373],\n",
              "       [0.64705882, 0.02745098, 0.        , 0.04705882, 0.95294118,\n",
              "        0.43529412, 0.55686275, 0.55686275, 0.58039216, 0.57647059,\n",
              "        0.58039216, 0.57647059, 0.59215686, 0.58039216, 0.55294118,\n",
              "        0.56862745, 0.57647059, 0.56862745, 0.59607843, 0.56862745,\n",
              "        0.54509804, 0.56862745, 0.6       , 0.58039216, 0.45490196,\n",
              "        0.70588235, 0.55686275, 0.25490196],\n",
              "       [0.58039216, 0.16078431, 0.        , 0.        , 0.94509804,\n",
              "        0.43137255, 0.54901961, 0.56862745, 0.56470588, 0.57254902,\n",
              "        0.58823529, 0.59607843, 0.57647059, 0.57647059, 0.56862745,\n",
              "        0.54901961, 0.54117647, 0.54117647, 0.55294118, 0.56470588,\n",
              "        0.54509804, 0.58039216, 0.61568627, 0.55294118, 0.46666667,\n",
              "        0.69019608, 0.6       , 0.        ],\n",
              "       [0.43921569, 0.6       , 0.        , 0.        , 1.        ,\n",
              "        0.60392157, 0.47058824, 0.6       , 0.58431373, 0.58431373,\n",
              "        0.56862745, 0.55686275, 0.58039216, 0.62352941, 0.65882353,\n",
              "        0.65490196, 0.61568627, 0.58431373, 0.55294118, 0.56078431,\n",
              "        0.54901961, 0.57647059, 0.61176471, 0.55686275, 0.43921569,\n",
              "        0.81176471, 0.01176471, 0.        ],\n",
              "       [0.07843137, 0.91764706, 0.        , 0.        , 1.        ,\n",
              "        0.83137255, 0.42352941, 0.49019608, 0.58823529, 0.58823529,\n",
              "        0.56078431, 0.53333333, 0.60784314, 0.50196078, 0.28235294,\n",
              "        0.32941176, 0.41960784, 0.6       , 0.56078431, 0.55686275,\n",
              "        0.61176471, 0.56470588, 0.60784314, 0.4627451 , 0.6745098 ,\n",
              "        0.90588235, 0.01960784, 0.        ],\n",
              "       [0.        , 0.8627451 , 0.11764706, 0.        , 0.99607843,\n",
              "        0.9372549 , 0.83529412, 0.49019608, 0.44313725, 0.51764706,\n",
              "        0.57254902, 0.56862745, 0.68235294, 0.37254902, 0.14117647,\n",
              "        0.34901961, 0.33333333, 0.61960784, 0.56862745, 0.54901961,\n",
              "        0.54117647, 0.4745098 , 0.42352941, 0.65098039, 0.92941176,\n",
              "        0.88235294, 0.        , 0.        ],\n",
              "       [0.        , 0.42745098, 0.57647059, 0.        , 0.96470588,\n",
              "        0.89803922, 0.9254902 , 0.96470588, 0.74901961, 0.59215686,\n",
              "        0.50980392, 0.47843137, 0.57254902, 0.52941176, 0.5372549 ,\n",
              "        0.62745098, 0.45882353, 0.5254902 , 0.47843137, 0.44313725,\n",
              "        0.47058824, 0.63137255, 0.84705882, 0.9254902 , 0.94117647,\n",
              "        0.76078431, 0.        , 0.        ],\n",
              "       [0.01960784, 0.        , 0.49019608, 0.15294118, 0.53333333,\n",
              "        0.96470588, 0.88235294, 0.92156863, 1.        , 0.99215686,\n",
              "        0.91764706, 0.84313725, 0.77254902, 0.70196078, 0.69411765,\n",
              "        0.68627451, 0.65882353, 0.69019608, 0.78039216, 0.8745098 ,\n",
              "        0.9372549 , 0.98823529, 0.92156863, 0.88235294, 0.9254902 ,\n",
              "        0.66666667, 0.        , 0.        ],\n",
              "       [0.00392157, 0.        , 0.        , 0.44313725, 0.8627451 ,\n",
              "        0.88627451, 0.87843137, 0.88235294, 0.84705882, 0.87843137,\n",
              "        0.95294118, 0.97254902, 0.99215686, 1.        , 1.        ,\n",
              "        0.99607843, 0.96470588, 0.97647059, 0.95294118, 0.91372549,\n",
              "        0.88235294, 0.84313725, 0.87058824, 0.83529412, 0.94117647,\n",
              "        0.22352941, 0.        , 0.00784314],\n",
              "       [0.01176471, 0.00784314, 0.        , 0.        , 0.30588235,\n",
              "        0.88627451, 0.88627451, 0.8745098 , 0.83921569, 0.85882353,\n",
              "        0.8745098 , 0.84705882, 0.85882353, 0.81568627, 0.56862745,\n",
              "        0.8       , 0.94509804, 0.85882353, 0.85882353, 0.86666667,\n",
              "        0.8745098 , 0.8627451 , 0.81960784, 0.95294118, 0.72156863,\n",
              "        0.        , 0.        , 0.        ],\n",
              "       [0.        , 0.00784314, 0.        , 0.        , 0.38039216,\n",
              "        0.8627451 , 0.82352941, 0.85098039, 0.89411765, 0.90980392,\n",
              "        0.90980392, 0.89411765, 0.8627451 , 0.80392157, 0.80392157,\n",
              "        0.46666667, 0.7254902 , 0.90588235, 0.84705882, 0.85490196,\n",
              "        0.8627451 , 0.8745098 , 0.95686275, 0.85490196, 0.        ,\n",
              "        0.        , 0.01176471, 0.        ],\n",
              "       [0.        , 0.        , 0.        , 0.        , 0.69019608,\n",
              "        0.93333333, 0.68627451, 0.83137255, 0.88235294, 0.89411765,\n",
              "        0.89803922, 0.88627451, 0.87843137, 0.90980392, 0.94509804,\n",
              "        0.66666667, 0.79607843, 1.        , 0.96078431, 0.95294118,\n",
              "        0.9254902 , 0.8       , 0.48627451, 0.        , 0.        ,\n",
              "        0.        , 0.        , 0.        ],\n",
              "       [0.        , 0.        , 0.        , 0.        , 0.45098039,\n",
              "        0.63921569, 0.64313725, 0.81176471, 0.89803922, 0.89411765,\n",
              "        0.91372549, 0.91764706, 0.92941176, 0.95294118, 0.83529412,\n",
              "        0.41176471, 0.58431373, 0.65490196, 0.48627451, 0.29803922,\n",
              "        0.0745098 , 0.        , 0.        , 0.        , 0.        ,\n",
              "        0.00784314, 0.        , 0.        ],\n",
              "       [0.        , 0.        , 0.        , 0.        , 0.        ,\n",
              "        0.        , 0.        , 0.        , 0.        , 0.        ,\n",
              "        0.        , 0.        , 0.        , 0.        , 0.        ,\n",
              "        0.        , 0.        , 0.        , 0.        , 0.        ,\n",
              "        0.        , 0.        , 0.00784314, 0.00784314, 0.        ,\n",
              "        0.        , 0.00392157, 0.        ],\n",
              "       [0.        , 0.        , 0.        , 0.        , 0.        ,\n",
              "        0.        , 0.        , 0.        , 0.        , 0.        ,\n",
              "        0.        , 0.        , 0.        , 0.        , 0.        ,\n",
              "        0.        , 0.        , 0.        , 0.        , 0.        ,\n",
              "        0.        , 0.        , 0.        , 0.        , 0.        ,\n",
              "        0.        , 0.        , 0.        ],\n",
              "       [0.        , 0.        , 0.        , 0.        , 0.        ,\n",
              "        0.        , 0.        , 0.        , 0.        , 0.        ,\n",
              "        0.        , 0.        , 0.        , 0.        , 0.        ,\n",
              "        0.        , 0.        , 0.        , 0.        , 0.        ,\n",
              "        0.        , 0.        , 0.        , 0.        , 0.        ,\n",
              "        0.        , 0.        , 0.        ],\n",
              "       [0.        , 0.        , 0.        , 0.        , 0.        ,\n",
              "        0.        , 0.        , 0.        , 0.        , 0.        ,\n",
              "        0.        , 0.        , 0.        , 0.        , 0.        ,\n",
              "        0.        , 0.        , 0.        , 0.        , 0.        ,\n",
              "        0.        , 0.        , 0.        , 0.        , 0.        ,\n",
              "        0.        , 0.        , 0.        ],\n",
              "       [0.        , 0.        , 0.        , 0.        , 0.        ,\n",
              "        0.        , 0.        , 0.        , 0.        , 0.        ,\n",
              "        0.        , 0.        , 0.        , 0.        , 0.        ,\n",
              "        0.        , 0.        , 0.        , 0.        , 0.        ,\n",
              "        0.        , 0.        , 0.        , 0.        , 0.        ,\n",
              "        0.        , 0.        , 0.        ],\n",
              "       [0.        , 0.        , 0.        , 0.        , 0.        ,\n",
              "        0.        , 0.        , 0.        , 0.        , 0.        ,\n",
              "        0.        , 0.        , 0.        , 0.        , 0.        ,\n",
              "        0.        , 0.        , 0.        , 0.        , 0.        ,\n",
              "        0.        , 0.        , 0.        , 0.        , 0.        ,\n",
              "        0.        , 0.        , 0.        ]])"
            ]
          },
          "metadata": {
            "tags": []
          },
          "execution_count": 82
        }
      ]
    },
    {
      "cell_type": "code",
      "metadata": {
        "id": "Pdv36Kslb6ky"
      },
      "source": [
        "from tensorflow.keras.utils import to_categorical\n",
        "\n",
        "\n",
        "y_train = to_categorical(y_train)\n",
        "y_test = to_categorical(y_test)\n"
      ],
      "execution_count": 83,
      "outputs": []
    },
    {
      "cell_type": "code",
      "metadata": {
        "id": "wwYrafpYa6_-",
        "outputId": "fac6315f-43b7-493f-c1b9-43bdadfe0ef7",
        "colab": {
          "base_uri": "https://localhost:8080/",
          "height": 34
        }
      },
      "source": [
        "y_train.shape"
      ],
      "execution_count": 84,
      "outputs": [
        {
          "output_type": "execute_result",
          "data": {
            "text/plain": [
              "(60000, 10)"
            ]
          },
          "metadata": {
            "tags": []
          },
          "execution_count": 84
        }
      ]
    },
    {
      "cell_type": "code",
      "metadata": {
        "id": "uXjkyCOO_lKT",
        "outputId": "c7a04e56-4c84-4a1c-a6cc-663cb6dc3244",
        "colab": {
          "base_uri": "https://localhost:8080/",
          "height": 34
        }
      },
      "source": [
        "y_test.shape"
      ],
      "execution_count": 85,
      "outputs": [
        {
          "output_type": "execute_result",
          "data": {
            "text/plain": [
              "(10000, 10)"
            ]
          },
          "metadata": {
            "tags": []
          },
          "execution_count": 85
        }
      ]
    },
    {
      "cell_type": "code",
      "metadata": {
        "id": "tZuEfUZHAzLQ",
        "outputId": "0db2cf3c-434a-4582-ee86-f6ab57a7ca35",
        "colab": {
          "base_uri": "https://localhost:8080/",
          "height": 136
        }
      },
      "source": [
        "y_test"
      ],
      "execution_count": 86,
      "outputs": [
        {
          "output_type": "execute_result",
          "data": {
            "text/plain": [
              "array([[0., 0., 0., ..., 0., 0., 1.],\n",
              "       [0., 0., 0., ..., 0., 0., 0.],\n",
              "       [1., 0., 0., ..., 0., 0., 0.],\n",
              "       ...,\n",
              "       [0., 0., 0., ..., 0., 0., 0.],\n",
              "       [0., 0., 0., ..., 0., 0., 0.],\n",
              "       [0., 0., 1., ..., 0., 0., 0.]], dtype=float32)"
            ]
          },
          "metadata": {
            "tags": []
          },
          "execution_count": 86
        }
      ]
    },
    {
      "cell_type": "code",
      "metadata": {
        "id": "G6CB2YLxT_SJ",
        "outputId": "dcd83095-7c5a-401c-b605-5c83649411b7",
        "colab": {
          "base_uri": "https://localhost:8080/",
          "height": 1000
        }
      },
      "source": [
        "model = Sequential([Flatten(input_shape=(28,28)),\n",
        "                     Dense(100,activation='relu'),\n",
        "                    Dense(50,activation='relu'),\n",
        "                    Dense(10, activation='softmax')])\n",
        "model.summary()\n",
        "model.compile(\n",
        "  loss='categorical_crossentropy',\n",
        "  optimizer='adam',\n",
        "  metrics=['accuracy']\n",
        ")\n",
        "model.fit(X_train, y_train, epochs=50, validation_data=(X_test,y_test))\n"
      ],
      "execution_count": 87,
      "outputs": [
        {
          "output_type": "stream",
          "text": [
            "Model: \"sequential_2\"\n",
            "_________________________________________________________________\n",
            "Layer (type)                 Output Shape              Param #   \n",
            "=================================================================\n",
            "flatten_2 (Flatten)          (None, 784)               0         \n",
            "_________________________________________________________________\n",
            "dense_6 (Dense)              (None, 100)               78500     \n",
            "_________________________________________________________________\n",
            "dense_7 (Dense)              (None, 50)                5050      \n",
            "_________________________________________________________________\n",
            "dense_8 (Dense)              (None, 10)                510       \n",
            "=================================================================\n",
            "Total params: 84,060\n",
            "Trainable params: 84,060\n",
            "Non-trainable params: 0\n",
            "_________________________________________________________________\n",
            "Epoch 1/50\n",
            "1875/1875 [==============================] - 7s 3ms/step - loss: 0.5042 - accuracy: 0.8191 - val_loss: 0.4385 - val_accuracy: 0.8428\n",
            "Epoch 2/50\n",
            "1875/1875 [==============================] - 6s 3ms/step - loss: 0.3757 - accuracy: 0.8627 - val_loss: 0.3812 - val_accuracy: 0.8601\n",
            "Epoch 3/50\n",
            "1875/1875 [==============================] - 6s 3ms/step - loss: 0.3383 - accuracy: 0.8751 - val_loss: 0.3840 - val_accuracy: 0.8608\n",
            "Epoch 4/50\n",
            "1875/1875 [==============================] - 6s 3ms/step - loss: 0.3165 - accuracy: 0.8836 - val_loss: 0.3625 - val_accuracy: 0.8650\n",
            "Epoch 5/50\n",
            "1875/1875 [==============================] - 6s 3ms/step - loss: 0.2955 - accuracy: 0.8900 - val_loss: 0.3461 - val_accuracy: 0.8736\n",
            "Epoch 6/50\n",
            "1875/1875 [==============================] - 6s 3ms/step - loss: 0.2823 - accuracy: 0.8952 - val_loss: 0.3399 - val_accuracy: 0.8785\n",
            "Epoch 7/50\n",
            "1875/1875 [==============================] - 6s 3ms/step - loss: 0.2723 - accuracy: 0.8979 - val_loss: 0.3256 - val_accuracy: 0.8822\n",
            "Epoch 8/50\n",
            "1875/1875 [==============================] - 6s 3ms/step - loss: 0.2597 - accuracy: 0.9027 - val_loss: 0.3728 - val_accuracy: 0.8723\n",
            "Epoch 9/50\n",
            "1875/1875 [==============================] - 6s 3ms/step - loss: 0.2494 - accuracy: 0.9069 - val_loss: 0.3452 - val_accuracy: 0.8815\n",
            "Epoch 10/50\n",
            "1875/1875 [==============================] - 6s 3ms/step - loss: 0.2411 - accuracy: 0.9086 - val_loss: 0.3380 - val_accuracy: 0.8848\n",
            "Epoch 11/50\n",
            "1875/1875 [==============================] - 6s 3ms/step - loss: 0.2337 - accuracy: 0.9119 - val_loss: 0.3536 - val_accuracy: 0.8719\n",
            "Epoch 12/50\n",
            "1875/1875 [==============================] - 6s 3ms/step - loss: 0.2262 - accuracy: 0.9148 - val_loss: 0.3541 - val_accuracy: 0.8799\n",
            "Epoch 13/50\n",
            "1875/1875 [==============================] - 6s 3ms/step - loss: 0.2211 - accuracy: 0.9172 - val_loss: 0.3514 - val_accuracy: 0.8833\n",
            "Epoch 14/50\n",
            "1875/1875 [==============================] - 6s 3ms/step - loss: 0.2140 - accuracy: 0.9184 - val_loss: 0.3499 - val_accuracy: 0.8840\n",
            "Epoch 15/50\n",
            "1875/1875 [==============================] - 6s 3ms/step - loss: 0.2103 - accuracy: 0.9207 - val_loss: 0.3549 - val_accuracy: 0.8774\n",
            "Epoch 16/50\n",
            "1875/1875 [==============================] - 6s 3ms/step - loss: 0.2015 - accuracy: 0.9242 - val_loss: 0.3543 - val_accuracy: 0.8827\n",
            "Epoch 17/50\n",
            "1875/1875 [==============================] - 6s 3ms/step - loss: 0.1990 - accuracy: 0.9254 - val_loss: 0.3323 - val_accuracy: 0.8872\n",
            "Epoch 18/50\n",
            "1875/1875 [==============================] - 6s 3ms/step - loss: 0.1943 - accuracy: 0.9261 - val_loss: 0.3380 - val_accuracy: 0.8871\n",
            "Epoch 19/50\n",
            "1875/1875 [==============================] - 6s 3ms/step - loss: 0.1898 - accuracy: 0.9273 - val_loss: 0.3406 - val_accuracy: 0.8924\n",
            "Epoch 20/50\n",
            "1875/1875 [==============================] - 6s 3ms/step - loss: 0.1818 - accuracy: 0.9311 - val_loss: 0.3471 - val_accuracy: 0.8895\n",
            "Epoch 21/50\n",
            "1875/1875 [==============================] - 6s 3ms/step - loss: 0.1791 - accuracy: 0.9328 - val_loss: 0.3803 - val_accuracy: 0.8841\n",
            "Epoch 22/50\n",
            "1875/1875 [==============================] - 6s 3ms/step - loss: 0.1776 - accuracy: 0.9331 - val_loss: 0.3703 - val_accuracy: 0.8864\n",
            "Epoch 23/50\n",
            "1875/1875 [==============================] - 6s 3ms/step - loss: 0.1722 - accuracy: 0.9353 - val_loss: 0.3554 - val_accuracy: 0.8928\n",
            "Epoch 24/50\n",
            "1875/1875 [==============================] - 6s 3ms/step - loss: 0.1678 - accuracy: 0.9370 - val_loss: 0.4095 - val_accuracy: 0.8821\n",
            "Epoch 25/50\n",
            "1875/1875 [==============================] - 6s 3ms/step - loss: 0.1654 - accuracy: 0.9371 - val_loss: 0.3794 - val_accuracy: 0.8846\n",
            "Epoch 26/50\n",
            "1875/1875 [==============================] - 6s 3ms/step - loss: 0.1602 - accuracy: 0.9384 - val_loss: 0.3703 - val_accuracy: 0.8917\n",
            "Epoch 27/50\n",
            "1875/1875 [==============================] - 6s 3ms/step - loss: 0.1575 - accuracy: 0.9395 - val_loss: 0.3756 - val_accuracy: 0.8849\n",
            "Epoch 28/50\n",
            "1875/1875 [==============================] - 6s 3ms/step - loss: 0.1550 - accuracy: 0.9415 - val_loss: 0.3931 - val_accuracy: 0.8890\n",
            "Epoch 29/50\n",
            "1875/1875 [==============================] - 6s 3ms/step - loss: 0.1501 - accuracy: 0.9426 - val_loss: 0.4175 - val_accuracy: 0.8878\n",
            "Epoch 30/50\n",
            "1875/1875 [==============================] - 6s 3ms/step - loss: 0.1484 - accuracy: 0.9442 - val_loss: 0.4398 - val_accuracy: 0.8881\n",
            "Epoch 31/50\n",
            "1875/1875 [==============================] - 7s 4ms/step - loss: 0.1454 - accuracy: 0.9456 - val_loss: 0.4458 - val_accuracy: 0.8904\n",
            "Epoch 32/50\n",
            "1875/1875 [==============================] - 6s 3ms/step - loss: 0.1423 - accuracy: 0.9453 - val_loss: 0.4005 - val_accuracy: 0.8874\n",
            "Epoch 33/50\n",
            "1875/1875 [==============================] - 6s 3ms/step - loss: 0.1390 - accuracy: 0.9473 - val_loss: 0.4143 - val_accuracy: 0.8899\n",
            "Epoch 34/50\n",
            "1875/1875 [==============================] - 6s 3ms/step - loss: 0.1396 - accuracy: 0.9470 - val_loss: 0.4211 - val_accuracy: 0.8886\n",
            "Epoch 35/50\n",
            "1875/1875 [==============================] - 6s 3ms/step - loss: 0.1336 - accuracy: 0.9492 - val_loss: 0.4323 - val_accuracy: 0.8901\n",
            "Epoch 36/50\n",
            "1875/1875 [==============================] - 6s 3ms/step - loss: 0.1324 - accuracy: 0.9499 - val_loss: 0.4351 - val_accuracy: 0.8906\n",
            "Epoch 37/50\n",
            "1875/1875 [==============================] - 6s 3ms/step - loss: 0.1282 - accuracy: 0.9510 - val_loss: 0.4638 - val_accuracy: 0.8911\n",
            "Epoch 38/50\n",
            "1875/1875 [==============================] - 6s 3ms/step - loss: 0.1270 - accuracy: 0.9516 - val_loss: 0.4671 - val_accuracy: 0.8870\n",
            "Epoch 39/50\n",
            "1875/1875 [==============================] - 6s 3ms/step - loss: 0.1282 - accuracy: 0.9509 - val_loss: 0.4708 - val_accuracy: 0.8861\n",
            "Epoch 40/50\n",
            "1875/1875 [==============================] - 6s 3ms/step - loss: 0.1203 - accuracy: 0.9549 - val_loss: 0.4643 - val_accuracy: 0.8893\n",
            "Epoch 41/50\n",
            "1875/1875 [==============================] - 6s 3ms/step - loss: 0.1219 - accuracy: 0.9531 - val_loss: 0.4926 - val_accuracy: 0.8912\n",
            "Epoch 42/50\n",
            "1875/1875 [==============================] - 6s 3ms/step - loss: 0.1190 - accuracy: 0.9537 - val_loss: 0.4750 - val_accuracy: 0.8910\n",
            "Epoch 43/50\n",
            "1875/1875 [==============================] - 6s 3ms/step - loss: 0.1172 - accuracy: 0.9557 - val_loss: 0.4857 - val_accuracy: 0.8857\n",
            "Epoch 44/50\n",
            "1875/1875 [==============================] - 6s 3ms/step - loss: 0.1133 - accuracy: 0.9553 - val_loss: 0.5032 - val_accuracy: 0.8875\n",
            "Epoch 45/50\n",
            "1875/1875 [==============================] - 6s 3ms/step - loss: 0.1151 - accuracy: 0.9566 - val_loss: 0.5088 - val_accuracy: 0.8883\n",
            "Epoch 46/50\n",
            "1875/1875 [==============================] - 6s 3ms/step - loss: 0.1132 - accuracy: 0.9567 - val_loss: 0.4872 - val_accuracy: 0.8871\n",
            "Epoch 47/50\n",
            "1875/1875 [==============================] - 6s 3ms/step - loss: 0.1107 - accuracy: 0.9567 - val_loss: 0.5411 - val_accuracy: 0.8824\n",
            "Epoch 48/50\n",
            "1875/1875 [==============================] - 6s 3ms/step - loss: 0.1084 - accuracy: 0.9593 - val_loss: 0.5184 - val_accuracy: 0.8884\n",
            "Epoch 49/50\n",
            "1875/1875 [==============================] - 6s 3ms/step - loss: 0.1074 - accuracy: 0.9592 - val_loss: 0.5721 - val_accuracy: 0.8833\n",
            "Epoch 50/50\n",
            "1875/1875 [==============================] - 6s 3ms/step - loss: 0.1061 - accuracy: 0.9594 - val_loss: 0.5430 - val_accuracy: 0.8900\n"
          ],
          "name": "stdout"
        },
        {
          "output_type": "execute_result",
          "data": {
            "text/plain": [
              "<tensorflow.python.keras.callbacks.History at 0x7f8a00479b00>"
            ]
          },
          "metadata": {
            "tags": []
          },
          "execution_count": 87
        }
      ]
    },
    {
      "cell_type": "code",
      "metadata": {
        "id": "BhrTO2teT_aR",
        "outputId": "38e409fc-d942-43e4-c9ab-b60386f1bd4f",
        "colab": {
          "base_uri": "https://localhost:8080/",
          "height": 51
        }
      },
      "source": [
        "model.evaluate(X_test,y_test)"
      ],
      "execution_count": 88,
      "outputs": [
        {
          "output_type": "stream",
          "text": [
            "313/313 [==============================] - 1s 3ms/step - loss: 0.5430 - accuracy: 0.8900\n"
          ],
          "name": "stdout"
        },
        {
          "output_type": "execute_result",
          "data": {
            "text/plain": [
              "[0.5430200099945068, 0.8899999856948853]"
            ]
          },
          "metadata": {
            "tags": []
          },
          "execution_count": 88
        }
      ]
    },
    {
      "cell_type": "code",
      "metadata": {
        "id": "SQV2uZtOlNRf",
        "outputId": "ab5e816b-42a6-4a01-a1fe-4a1a018b2ef7",
        "colab": {
          "base_uri": "https://localhost:8080/",
          "height": 51
        }
      },
      "source": [
        "y_pred=model.predict(X_test)\n",
        "y_pred_labels= np.argmax(y_pred, axis=1)\n",
        "y_pred_labels\n",
        "\n",
        "y_pred_counts = np.unique(y_pred_labels, return_counts=True)\n",
        "y_pred_counts"
      ],
      "execution_count": 89,
      "outputs": [
        {
          "output_type": "execute_result",
          "data": {
            "text/plain": [
              "(array([0, 1, 2, 3, 4, 5, 6, 7, 8, 9]),\n",
              " array([1041, 1022, 1085,  956, 1015,  986,  894, 1015,  983, 1003]))"
            ]
          },
          "metadata": {
            "tags": []
          },
          "execution_count": 89
        }
      ]
    },
    {
      "cell_type": "code",
      "metadata": {
        "id": "7l8By2h3BBF5",
        "outputId": "f5e0fe02-5b49-4883-974a-0af36e9e6081",
        "colab": {
          "base_uri": "https://localhost:8080/",
          "height": 51
        }
      },
      "source": [
        "y_real_labels= np.argmax(y_test, axis=1)\n",
        "y_real_labels\n",
        "\n",
        "y_real_counts = np.unique(y_real_labels, return_counts=True)\n",
        "y_real_counts"
      ],
      "execution_count": 90,
      "outputs": [
        {
          "output_type": "execute_result",
          "data": {
            "text/plain": [
              "(array([0, 1, 2, 3, 4, 5, 6, 7, 8, 9]),\n",
              " array([1000, 1000, 1000, 1000, 1000, 1000, 1000, 1000, 1000, 1000]))"
            ]
          },
          "metadata": {
            "tags": []
          },
          "execution_count": 90
        }
      ]
    },
    {
      "cell_type": "code",
      "metadata": {
        "id": "Muw-EB84lNio",
        "outputId": "a97b77bb-5100-4ab0-e05b-fde04b9aa9c6",
        "colab": {
          "base_uri": "https://localhost:8080/",
          "height": 187
        }
      },
      "source": [
        "from sklearn.metrics import confusion_matrix\n",
        "c_m = confusion_matrix(y_pred_labels,y_real_labels)\n",
        "c_m"
      ],
      "execution_count": 91,
      "outputs": [
        {
          "output_type": "execute_result",
          "data": {
            "text/plain": [
              "array([[858,   3,  14,  22,   1,   0, 136,   0,   6,   1],\n",
              "       [  2, 985,   2,  23,   2,   0,   6,   0,   2,   0],\n",
              "       [ 24,   3, 840,  12, 105,   0,  94,   0,   7,   0],\n",
              "       [ 17,   5,   6, 869,  27,   1,  27,   0,   4,   0],\n",
              "       [  5,   3,  75,  44, 818,   0,  67,   0,   3,   0],\n",
              "       [  2,   0,   0,   0,   0, 968,   0,   9,   2,   5],\n",
              "       [ 87,   0,  61,  26,  45,   0, 669,   0,   6,   0],\n",
              "       [  0,   0,   0,   0,   0,  18,   0, 963,   3,  31],\n",
              "       [  5,   1,   2,   4,   2,   1,   1,   0, 967,   0],\n",
              "       [  0,   0,   0,   0,   0,  12,   0,  28,   0, 963]])"
            ]
          },
          "metadata": {
            "tags": []
          },
          "execution_count": 91
        }
      ]
    },
    {
      "cell_type": "code",
      "metadata": {
        "id": "DzdBj91ZlSMK",
        "outputId": "c980c881-d86a-4916-c0d5-2f20cc6c2353",
        "colab": {
          "base_uri": "https://localhost:8080/",
          "height": 405
        }
      },
      "source": [
        "import seaborn as sns\n",
        "plt.figure(figsize = (6,6))\n",
        "sns.heatmap(c_m,cmap= \"Reds\", linecolor = 'black' , linewidth = 1 , annot = True, fmt='')\n",
        "plt.xlabel('Predicted')\n",
        "plt.ylabel('Actual')"
      ],
      "execution_count": 92,
      "outputs": [
        {
          "output_type": "execute_result",
          "data": {
            "text/plain": [
              "Text(33.0, 0.5, 'Actual')"
            ]
          },
          "metadata": {
            "tags": []
          },
          "execution_count": 92
        },
        {
          "output_type": "display_data",
          "data": {
            "image/png": "[encoded data removed]",
            "text/plain": [
              "<Figure size 432x432 with 2 Axes>"
            ]
          },
          "metadata": {
            "tags": [],
            "needs_background": "light"
          }
        }
      ]
    },
    {
      "cell_type": "code",
      "metadata": {
        "id": "nPjqYRDUlScS",
        "outputId": "8f7c8c52-64a9-487d-eb59-9f6227cbc688",
        "colab": {
          "base_uri": "https://localhost:8080/",
          "height": 34
        }
      },
      "source": [
        "from sklearn.metrics import confusion_matrix,roc_curve,auc,accuracy_score\n",
        "acc_score = accuracy_score(y_real_labels, y_pred_labels)\n",
        "acc_score"
      ],
      "execution_count": 93,
      "outputs": [
        {
          "output_type": "execute_result",
          "data": {
            "text/plain": [
              "0.89"
            ]
          },
          "metadata": {
            "tags": []
          },
          "execution_count": 93
        }
      ]
    },
    {
      "cell_type": "code",
      "metadata": {
        "id": "UQu-oxkXlSJ8",
        "outputId": "e303cb9f-46e4-4943-9257-de16849bab51",
        "colab": {
          "base_uri": "https://localhost:8080/",
          "height": 34
        }
      },
      "source": [
        "y_pred=model.predict(X_test)\n",
        "\n",
        "y_pred_2=np.argmax(y_pred[2])\n",
        "y_pred_2"
      ],
      "execution_count": 94,
      "outputs": [
        {
          "output_type": "execute_result",
          "data": {
            "text/plain": [
              "0"
            ]
          },
          "metadata": {
            "tags": []
          },
          "execution_count": 94
        }
      ]
    },
    {
      "cell_type": "code",
      "metadata": {
        "id": "5aOr3bPVsHO4",
        "outputId": "2c12a3ce-f872-48f8-846f-01e72a762ee8",
        "colab": {
          "base_uri": "https://localhost:8080/",
          "height": 282
        }
      },
      "source": [
        "plt.imshow(X_test[2])"
      ],
      "execution_count": 95,
      "outputs": [
        {
          "output_type": "execute_result",
          "data": {
            "text/plain": [
              "<matplotlib.image.AxesImage at 0x7f89f8dfa438>"
            ]
          },
          "metadata": {
            "tags": []
          },
          "execution_count": 95
        },
        {
          "output_type": "display_data",
          "data": {
            "image/png": "[encoded data removed]",
            "text/plain": [
              "<Figure size 432x288 with 1 Axes>"
            ]
          },
          "metadata": {
            "tags": [],
            "needs_background": "light"
          }
        }
      ]
    },
    {
      "cell_type": "code",
      "metadata": {
        "id": "5Bu9DJUx5Q2y"
      },
      "source": [
        "class_labels = [\"T-shirt/top\",\"Trouser\",\"Pullover\",\"Dress\",\"Coat\",\"Sandal\",\"Shirt\",\"Sneaker\",\"Bag\",\"Ankle boot\"]"
      ],
      "execution_count": 96,
      "outputs": []
    },
    {
      "cell_type": "code",
      "metadata": {
        "id": "_d8JthpSPoRV",
        "outputId": "8c885331-7881-4188-d895-362ac03ccae0",
        "colab": {
          "base_uri": "https://localhost:8080/",
          "height": 35
        }
      },
      "source": [
        "class_labels[y_pred_2]"
      ],
      "execution_count": 97,
      "outputs": [
        {
          "output_type": "execute_result",
          "data": {
            "application/vnd.google.colaboratory.intrinsic+json": {
              "type": "string"
            },
            "text/plain": [
              "'T-shirt/top'"
            ]
          },
          "metadata": {
            "tags": []
          },
          "execution_count": 97
        }
      ]
    },
    {
      "cell_type": "code",
      "metadata": {
        "id": "43m-cRW2Pucy"
      },
      "source": [
        ""
      ],
      "execution_count": null,
      "outputs": []
    }
  ]
}